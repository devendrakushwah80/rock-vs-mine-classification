import pandas as pd 
import numpy as np
import matplotlib.pyplot as plt


df = pd.read_csv("sonar.all-data.csv",header = None)


df.head()


df.shape


df.info()


df.describe()


df[60].value_counts()


df.groupby(60).mean()


y = df[60]


X = df.drop(columns = 60 , axis = 1)


print(X)


print(y)


from sklearn.model_selection import  train_test_split


X_train, X_test, y_train, y_test = train_test_split(X, y, test_size = 0.1 ,stratify= y, random_state=0)


print(X_train.shape)
print(X_test.shape)


from sklearn.linear_model import LogisticRegression


model = LogisticRegression()


model.fit(X_train,y_train)


prediction = model.predict(X_test)


from sklearn.metrics import accuracy_score


model_accuracy = accuracy_score(prediction,y_test)


print("Accuracy of model is : ",model_accuracy)


# Testing on input data
input_data = (
    0.0209, 0.0371, 0.0428, 0.0209, 0.0954, 0.0986, 0.1539, 0.1601,
    0.3109, 0.2111, 0.1609, 0.1582, 0.2238, 0.0645, 0.0660, 0.2273,
    0.3100, 0.2999, 0.5078, 0.4797, 0.5783, 0.5071, 0.4328, 0.5550,
    0.6711, 0.6415, 0.7104, 0.8080, 0.6791, 0.3857, 0.1309, 0.2604,
    0.5129, 0.7547, 0.8537, 0.8510, 0.6692, 0.6097, 0.4940, 0.2744,
    0.0510, 0.2834, 0.2826, 0.4256, 0.2641, 0.1386, 0.1051, 0.1343,
    0.0383, 0.0324, 0.0478, 0.0370, 0.0061, 0.0125, 0.0084, 0.0089,
    0.0048, 0.0094, 0.0151, 0.0072
)


input_data_array = np.asarray(input_data)


print(input_data_array)


input_data_reshaped = input_data_array.reshape(1,-1)


print(input_data_reshaped)


prediction_on_input = model.predict(input_data_reshaped)


print(prediction)


if prediction[0] == 'R':
    print("THIS IS ROCK")
else:
    print("ALERT !! THIS IS MINE !!")
